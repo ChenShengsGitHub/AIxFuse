{
 "cells": [
  {
   "cell_type": "code",
   "execution_count": 2,
   "metadata": {},
   "outputs": [],
   "source": [
    "from rdkit.Chem import DataStructs\n",
    "from tqdm import tqdm\n",
    "from rdkit.Chem.AllChem import GetMorganFingerprintAsBitVect\n",
    "from matplotlib import pyplot as plt\n",
    "import pandas as pd\n",
    "from moses.metrics import weight, logP, SA, QED,mol_passes_filters\n",
    "from moses.metrics.utils import get_mol, mapper\n",
    "\n",
    "from rdkit import Chem\n",
    "from rdkit.Chem import AllChem,Descriptors,Lipinski,DataStructs\n",
    "from functools import partial\n",
    "import numpy as np\n",
    "from sklearn import manifold\n",
    "import random\n",
    "import glob\n",
    "import os\n",
    "import seaborn as sns"
   ]
  },
  {
   "cell_type": "code",
   "execution_count": 6,
   "metadata": {},
   "outputs": [
    {
     "name": "stdout",
     "output_type": "stream",
     "text": [
      "6Y9S 4WHZ\n"
     ]
    }
   ],
   "source": [
    "from iter_gen import task as task_dict\n",
    "df_dict={}\n",
    "color_dict={'ReINVENT':'purple','RationaleRL':'green','MARS':'orange','AIxFuse_init':'blue','AIxFuse':'red','rorgt':'black','dhodh':'grey','gsk3b':'black','jnk3':'grey'}\n",
    "task='gsk3b_jnk3'\n",
    "target1,target2=task.split('_')\n",
    "pdb_id1=task_dict[task]['pdb_id1']\n",
    "pdb_id2=task_dict[task]['pdb_id2']\n",
    "print(pdb_id1,pdb_id2)\n",
    "prec=task_dict[task]['prec']\n",
    "for csv in glob.glob(os.path.join('data/compare',task,'*.csv')):\n",
    "    name=csv.split('/')[-1].split('.')[0]\n",
    "    if name in color_dict:\n",
    "        df_dict[name]=(pd.read_csv(csv),name,color_dict[name])"
   ]
  },
  {
   "cell_type": "code",
   "execution_count": 10,
   "metadata": {},
   "outputs": [],
   "source": [
    "metric_dict={\n",
    "    f'{pdb_id1}_{prec}':[df_dict[name] for name in ['ReINVENT','RationaleRL','MARS','AIxFuse',target1]],\n",
    "    f'{pdb_id2}_{prec}':[df_dict[name] for name in ['ReINVENT','RationaleRL','MARS','AIxFuse',target2]],\n",
    "    f'LogP':[df_dict[name] for name in ['ReINVENT','RationaleRL','MARS','AIxFuse',target1,target2]],\n",
    "    f'SA':[df_dict[name] for name in ['ReINVENT','RationaleRL','MARS','AIxFuse',target1,target2]],\n",
    "    f'QED':[df_dict[name] for name in ['ReINVENT','RationaleRL','MARS','AIxFuse',target1,target2]],\n",
    "    f'Weight':[df_dict[name] for name in ['ReINVENT','RationaleRL','MARS','AIxFuse',target1,target2]],\n",
    "}\n",
    "# metric_dict={\n",
    "#     f'{pdb_id1}_{prec}':[df_dict[name] for name in ['AIxFuse_init','AIxFuse',target1]],\n",
    "#     f'{pdb_id2}_{prec}':[df_dict[name] for name in ['AIxFuse_init','AIxFuse',target2]],\n",
    "#     # f'LogP':[df_dict[name] for name in ['ReINVENT','RationaleRL','MARS','AIxFuse_init','AIxFuse',target1,target2]],\n",
    "#     f'SA':[df_dict[name] for name in ['AIxFuse_init','AIxFuse',target1,target2]],\n",
    "#     f'QED':[df_dict[name] for name in ['AIxFuse_init','AIxFuse',target1,target2]],\n",
    "#     # f'Weight':[df_dict[name] for name in ['ReINVENT','RationaleRL','MARS','AIxFuse_init','AIxFuse',target1,target2]],\n",
    "# }\n",
    "metric_14d={'QED':0.368308769245971,'SA':3.74619658218488,'5NTP_XP':-12.9913537202175,'6QU7_XP':-10.1629030495152,'LogP':6.71892,'Weight':585.998}\n",
    "for metric in metric_dict:\n",
    "    fig=plt.figure(figsize=(9,3))\n",
    "    plt.grid(True,color=\"gray\",linewidth=\"0.5\",axis=\"both\")\n",
    "    for model,model_name,color in metric_dict[metric]:\n",
    "        if model_name =='AIxFuse_init':\n",
    "            model_name = 'AIxFuse(w/o ALRL)'\n",
    "        col=model[metric].dropna()\n",
    "        # col[col.isnull()]=0\n",
    "        sns.distplot(col, hist=False, kde=True,\n",
    "            kde_kws={'fill': True, 'linewidth': 3},\n",
    "            label=model_name,color=color)\n",
    "    plt.ylim(top=plt.ylim()[1])\n",
    "    if task=='rorgt_dhodh':\n",
    "        plt.plot([metric_14d[metric],metric_14d[metric]],[0,plt.ylim()[1]],label='JMC (R)-14d')\n",
    "    plt.xlabel(metric,fontdict={'family' : 'Times New Roman', 'size'   : 20})\n",
    "    plt.ylabel('Density',fontdict={'family' : 'Times New Roman', 'size'   : 20})\n",
    "    plt.xticks(fontproperties = 'Times New Roman', size = 14)\n",
    "    plt.yticks(fontproperties = 'Times New Roman', size = 14)\n",
    "    # if metric=='QED':\n",
    "    #     plt.legend(loc='upper left',fontsize=16)\n",
    "    # else:\n",
    "    plt.legend(fontsize=14)\n",
    "    plt.tight_layout()\n",
    "    # plt.xlim(left=0)\n",
    "    # plt.ylim(bottom=plt.ylim()[0]+plt.ylim()[1]/100)\n",
    "    fig.savefig(os.path.join('data/outputs/images/distribution',task,f'{metric}.png'),dpi=250)\n",
    "    plt.close()"
   ]
  }
 ],
 "metadata": {
  "kernelspec": {
   "display_name": "mtdd",
   "language": "python",
   "name": "python3"
  },
  "language_info": {
   "codemirror_mode": {
    "name": "ipython",
    "version": 3
   },
   "file_extension": ".py",
   "mimetype": "text/x-python",
   "name": "python",
   "nbconvert_exporter": "python",
   "pygments_lexer": "ipython3",
   "version": "3.8.16"
  },
  "orig_nbformat": 4
 },
 "nbformat": 4,
 "nbformat_minor": 2
}
