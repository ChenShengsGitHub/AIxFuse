{
 "cells": [
  {
   "cell_type": "code",
   "execution_count": 1,
   "metadata": {},
   "outputs": [],
   "source": [
    "from rdkit import Chem\n",
    "import pandas as pd"
   ]
  },
  {
   "cell_type": "code",
   "execution_count": 20,
   "metadata": {},
   "outputs": [
    {
     "name": "stdout",
     "output_type": "stream",
     "text": [
      "C\n",
      "*\n",
      "*\n",
      "0\n"
     ]
    },
    {
     "data": {
      "image/png": "[encoded data removed]",
      "text/plain": [
       "<rdkit.Chem.rdchem.Mol at 0x7fd9163209a0>"
      ]
     },
     "execution_count": 20,
     "metadata": {},
     "output_type": "execute_result"
    }
   ],
   "source": [
    "smiles='C*'\n",
    "mol=Chem.MolFromSmiles(smiles)\n",
    "anchor=Chem.Atom('*')\n",
    "mol_e=Chem.RWMol(mol)\n",
    "\n",
    "idx=mol_e.AddAtom(anchor)\n",
    "mol_e.AddBond(0, idx,Chem.rdchem.BondType.SINGLE)\n",
    "mol=mol_e.GetMol()\n",
    "for atom in mol.GetAtoms():\n",
    "    print(atom.GetSymbol())\n",
    "print(anchor.GetIdx())\n",
    "mol\n"
   ]
  },
  {
   "cell_type": "code",
   "execution_count": 21,
   "metadata": {},
   "outputs": [
    {
     "data": {
      "text/plain": [
       "1"
      ]
     },
     "execution_count": 21,
     "metadata": {},
     "output_type": "execute_result"
    }
   ],
   "source": [
    "[1,2].index(2)"
   ]
  }
 ],
 "metadata": {
  "kernelspec": {
   "display_name": "mtdd",
   "language": "python",
   "name": "python3"
  },
  "language_info": {
   "codemirror_mode": {
    "name": "ipython",
    "version": 3
   },
   "file_extension": ".py",
   "mimetype": "text/x-python",
   "name": "python",
   "nbconvert_exporter": "python",
   "pygments_lexer": "ipython3",
   "version": "3.8.16"
  },
  "orig_nbformat": 4
 },
 "nbformat": 4,
 "nbformat_minor": 2
}
